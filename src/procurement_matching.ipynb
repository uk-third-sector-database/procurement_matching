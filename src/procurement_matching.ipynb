{
 "cells": [
  {
   "cell_type": "markdown",
   "id": "40b9a21a-d87e-4b36-bb95-bded398a852f",
   "metadata": {},
   "source": [
    "## Section 0\n",
    "\n",
    "### Section 0.1\n",
    "\n",
    "First, lets load the libraries we need"
   ]
  },
  {
   "cell_type": "code",
   "execution_count": 1,
   "id": "2e073d25-0026-42d2-a1cd-cd51d9623e89",
   "metadata": {},
   "outputs": [],
   "source": [
    "import os\n",
    "import re\n",
    "import html\n",
    "import numpy as np\n",
    "import pandas as pd\n",
    "from tqdm.notebook import tqdm\n",
    "\n",
    "from matching_helpers import normaliser,\\\n",
    "                             parse_datetime,\\\n",
    "                             read_raw_data,\\\n",
    "                             prepare_nhsspend,\\\n",
    "                             prepare_contractsfinder,\\\n",
    "                             org_counter,\\\n",
    "                             strip_html,\\\n",
    "                             unique_agg,\\\n",
    "                             process_dates,\\\n",
    "                             make_matches"
   ]
  },
  {
   "cell_type": "markdown",
   "id": "3fcbd42c-0d0e-4d8b-a5c5-1dedec05901e",
   "metadata": {},
   "source": [
    "### Section 0.2\n",
    "\n",
    "Lets load the raw payments data we need"
   ]
  },
  {
   "cell_type": "code",
   "execution_count": 2,
   "id": "4bc4ed12-36c8-42cb-9997-01c771fe7739",
   "metadata": {},
   "outputs": [],
   "source": [
    "tqdm.pandas()\n",
    "df_centgov = read_raw_data('centgov_data.csv', 'Contracts Finder')\n",
    "df_nhs = read_raw_data('nhsspend_data.csv', 'NHSSpend')\n",
    "df_contracts = read_raw_data('contractsfinder_data.csv', 'Contracts Finder')"
   ]
  },
  {
   "cell_type": "markdown",
   "id": "28bbf6e2-3eb6-49ae-9440-150f9eb6995d",
   "metadata": {},
   "source": [
    "### Section 0.3\n",
    "\n",
    "Wrangle them a bit"
   ]
  },
  {
   "cell_type": "code",
   "execution_count": 3,
   "id": "f18ecd37-3d4c-4cd9-9bd1-e617813f1aa8",
   "metadata": {},
   "outputs": [],
   "source": [
    "df_centgov = df_centgov[['data_source', 'amount', 'supplier', 'date', 'dept']]"
   ]
  },
  {
   "cell_type": "code",
   "execution_count": 4,
   "id": "8b677e21-64c7-40d4-bc6e-bfc1d8f8ad70",
   "metadata": {},
   "outputs": [],
   "source": [
    "df_nhs = prepare_nhsspend(df_nhs)"
   ]
  },
  {
   "cell_type": "code",
   "execution_count": 5,
   "id": "283132ef-7ae8-49ec-81e4-7caac2dddc30",
   "metadata": {},
   "outputs": [],
   "source": [
    "df_contracts = prepare_contractsfinder(df_contracts)"
   ]
  },
  {
   "cell_type": "markdown",
   "id": "a6883471-6698-46ca-962c-c82b5d01dc66",
   "metadata": {},
   "source": [
    "### Section 0.4\n",
    "\n",
    "Merge and clean them a bit"
   ]
  },
  {
   "cell_type": "code",
   "execution_count": null,
   "id": "73613a77-8eb9-4497-b570-b7780dfc0501",
   "metadata": {},
   "outputs": [
    {
     "name": "stdout",
     "output_type": "stream",
     "text": [
      "Dropping 926 rows of data because of numeric suppliers\n",
      "Dropping 0 rows of data because of NaN suppliers\n"
     ]
    },
    {
     "data": {
      "application/vnd.jupyter.widget-view+json": {
       "model_id": "d050c84e4a484d639e2e4a210012eba9",
       "version_major": 2,
       "version_minor": 0
      },
      "text/plain": [
       "  0%|          | 0/9331286 [00:00<?, ?it/s]"
      ]
     },
     "metadata": {},
     "output_type": "display_data"
    }
   ],
   "source": [
    "df_comb = pd.concat([df_nhs, df_centgov, df_contracts], ignore_index=True)\n",
    "df_comb = df_comb.rename({'supplier': 'SUPPLIER'}, axis=1)\n",
    "df_comb['SUPPLIER'] = df_comb['SUPPLIER'].str.upper().str.strip()\n",
    "\n",
    "df_comb['SUPPLIER_NUMERIC'] = pd.to_numeric(df_comb['SUPPLIER'], errors='coerce')\n",
    "print(f'Dropping {len(df_comb[df_comb[\"SUPPLIER\"].isnull()])} rows of data because of numeric suppliers')\n",
    "df_comb = df_comb[df_comb['SUPPLIER'].notnull()]\n",
    "df_comb = df_comb[df_comb['SUPPLIER_NUMERIC'].isna()]\n",
    "df_comb = df_comb.drop(columns='SUPPLIER_NUMERIC')\n",
    "\n",
    "print(f'Dropping {len(df_comb[df_comb[\"SUPPLIER\"].isnull()])} rows of data because of NaN suppliers')\n",
    "df_comb = df_comb[df_comb['SUPPLIER'].notnull()]\n",
    "df_comb['SUPPLIER'] = df_comb['SUPPLIER'].progress_apply(strip_html)\n",
    "print(f'Dropping {len(df_comb[df_comb[\"SUPPLIER\"].isnull()])} rows of data after html parsing')\n",
    "df_comb = df_comb[df_comb['SUPPLIER'].notnull()]\n",
    "df_comb['date'] = df_comb['date'].astype(str).str.split('T').str[0]\n",
    "df_comb['date'] = pd.to_datetime(df_comb['date'],\n",
    "                                 format='mixed',\n",
    "                                 errors='coerce')\n",
    "df_comb['date'] = df_comb['date'].map(lambda x: x.strftime('%d-%m-%Y') if pd.notnull(x) else np.nan)\n",
    "print(f'Dropping {len(df_comb[df_comb[\"date\"].isnull()])} rows of data due to NaN dates')\n",
    "df_comb = df_comb[df_comb['date'].notnull()]\n",
    "print(f'Dropping {len(df_comb[df_comb[\"amount\"].isnull()])} rows of data due to NaN amounts')\n",
    "df_comb = df_comb[df_comb['amount'].notnull()]\n",
    "print(f'Dropping {len(df_comb[df_comb[\"dept\"].isnull()])} rows of data due to NaN depts')\n",
    "df_comb = df_comb[df_comb['dept'].notnull()]\n",
    "df_comb['NORMALIZED_SUPPLIER'] = df_comb['SUPPLIER'].progress_apply(normaliser)\n",
    "df_comb = df_comb[df_comb['NORMALIZED_SUPPLIER'].apply(isinstance, args=(str,))]\n",
    "\n",
    "rows_to_drop = len(df_comb[\n",
    "    (df_comb[\"SUPPLIER\"].str.len() <= 3) |\n",
    "    (df_comb[\"NORMALIZED_SUPPLIER\"].str.len() <= 3)\n",
    "])\n",
    "\n",
    "# Print the message with the count of rows to be dropped\n",
    "print(f'Dropping {rows_to_drop} rows of data due to supplier str len<=3')\n",
    "\n",
    "df_comb = df_comb[\n",
    "    (df_comb[\"SUPPLIER\"].str.len() > 3) |\n",
    "    (df_comb[\"NORMALIZED_SUPPLIER\"].str.len() > 3)\n",
    "]\n",
    "\n",
    "df_comb[['SUPPLIER', 'ORG_COUNT']] = df_comb['SUPPLIER'].apply(lambda x: pd.Series(org_counter(x)))\n",
    "all_rows = len(df_comb)\n",
    "\n",
    "for supplier in [\"SUCCESSFUL SUPPL\",\n",
    "                 \"SEE ATTACH\",\n",
    "                 \"REFER ATTACH\",\n",
    "                 \"CONTRACT WAS AWARD\",\n",
    "                 \"AWARDED SUPPLIERS\",\n",
    "                 \"SUCCESSFUL SUPPLIER\",\n",
    "                 \"PLEASE SEE\",\n",
    "                 'NAMED IND',\n",
    "                 'REDACT',\n",
    "                 \"PLEASE REFER\"]:\n",
    "    df_comb = df_comb[~df_comb['SUPPLIER'].str.contains(supplier)]\n",
    "\n",
    "print(f'Number of rows dropped due to redacted: {len(df_comb)-all_rows}')\n",
    "\n",
    "print(f'Dropping {len(df_comb[df_comb[\"ORG_COUNT\"]!=1])} where org_count !=1')\n",
    "df_comb = df_comb[df_comb['ORG_COUNT']==1]"
   ]
  },
  {
   "cell_type": "markdown",
   "id": "f635202d-2a1f-4d87-9264-0e28dce79f10",
   "metadata": {},
   "source": [
    "### Section 0.5\n",
    "\n",
    "Merge them into a unique dataframe, and then process it (inc. normalize)"
   ]
  },
  {
   "cell_type": "code",
   "execution_count": null,
   "id": "50f5ac99-8d9b-4acf-bde7-8a3f5b8029f8",
   "metadata": {},
   "outputs": [],
   "source": [
    "df_uniq = df_comb.pivot_table(index=['SUPPLIER'],\n",
    "                              values=['date',\n",
    "                                      'contractsfinder_region',\n",
    "                                      'contractsfinder_awardedToVcse',\n",
    "                                      'dept'],\n",
    "                              aggfunc=unique_agg).reset_index()\n",
    "df_sum = df_comb.groupby('SUPPLIER')['amount'].sum().reset_index()\n",
    "df_counts = df_comb['SUPPLIER'].value_counts().reset_index()\n",
    "df_uniq = pd.merge(df_uniq,\n",
    "                   df_sum,\n",
    "                   how='left',\n",
    "                   left_on='SUPPLIER',\n",
    "                   right_on='SUPPLIER'\n",
    "                  )\n",
    "df_uniq[['SUPPLIER', 'ORG_COUNT']] = df_uniq['SUPPLIER'].progress_apply(lambda x: pd.Series(org_counter(x)))\n",
    "df_uniq['NORMALIZED_SUPPLIER'] = df_uniq['SUPPLIER'].progress_apply(normaliser)\n",
    "df_uniq = df_uniq[df_uniq['NORMALIZED_SUPPLIER'].apply(isinstance, args=(str,))]\n",
    "df_uniq = pd.merge(df_uniq,\n",
    "                   df_counts,\n",
    "                   how='left',\n",
    "                   left_on='SUPPLIER',\n",
    "                   right_on='SUPPLIER'\n",
    "                  )\n",
    "df_uniq.sort_values(by=['amount'],\n",
    "                    ascending=False)\n",
    "\n",
    "df_uniq1 = df_nhs[['supplier',\n",
    "                   'NHSSpend_CompanyName',\n",
    "                   'NHSSpend_CompanyNumber',\n",
    "                   'NHSSpend_CharityName',\n",
    "                   'NHSSpend_CharityRegNo',\n",
    "                   'NHSSpend_CharitySubNo',\n",
    "                   'NHSSpend_CharityNameNo',\n",
    "                   'NHSSpend_CharityName']].drop_duplicates()\n",
    "df_uniq = pd.merge(df_uniq,\n",
    "                   df_uniq1,\n",
    "                   how='left',\n",
    "                   left_on='SUPPLIER',\n",
    "                   right_on='supplier'\n",
    "                  )\n",
    "\n",
    "\n",
    "contractsfinder_region = df_sum = df_comb.groupby('SUPPLIER')['amount'].sum().reset_index()\n",
    "\n",
    "\n",
    "df_uniq = df_uniq.rename({'count': 'PAYMENT_TOTAL_COUNT',\n",
    "                          'amount': 'PAYMENT_TOTAL_AMOUNT'},\n",
    "                         axis=1)\n",
    "print(f'Dropping {len(df_uniq[df_uniq[\"ORG_COUNT\"]!=1])} org_count !=1')\n",
    "df_uniq = df_uniq[df_uniq['ORG_COUNT']==1]\n",
    "df_uniq = df_uniq.drop(columns='supplier')\n",
    "df_uniq['contractsfinder_awardedToVcse'] = df_uniq['contractsfinder_awardedToVcse'].apply(lambda x: \"True\" if True in x else \"False\")\n",
    "df_uniq['deptcount'] = df_uniq['dept'].apply(len)\n",
    "df_uniq['contractsfinder_region'] = df_uniq['contractsfinder_region'].apply(lambda x: \"\" if x == [np.nan] else x)\n",
    "df_uniq['date'] = df_uniq['date'].astype(str).progress_apply(process_dates)\n",
    "df_uniq['SUPPLIER'] = df_uniq['SUPPLIER'].replace('\"', \"[DQ]\", regex=True)\n",
    "df_uniq['dept'] = df_uniq['dept'].replace('\"', \"[DQ]\", regex=True)\n",
    "df_comb['SUPPLIER'] = df_comb['SUPPLIER'].replace('\"', \"[DQ]\", regex=True)"
   ]
  },
  {
   "cell_type": "markdown",
   "id": "a9c05492-95b4-40ef-9bc4-412672228bea",
   "metadata": {},
   "source": [
    "### Section 0.6\n",
    "\n",
    "Drop stuff that isn't any longer needed"
   ]
  },
  {
   "cell_type": "code",
   "execution_count": null,
   "id": "3cdabed9-fe97-4c5f-9e92-c9162f45f46d",
   "metadata": {},
   "outputs": [],
   "source": [
    "df_uniq = df_uniq.drop('NHSSpend_CharityNameNo', axis=1)\n",
    "df_uniq = df_uniq.drop('NHSSpend_CharityName', axis=1)\n",
    "df_uniq = df_uniq.drop('NHSSpend_CompanyName', axis=1)\n",
    "\n",
    "df_comb = df_comb.drop('NHSSpend_CharityNameNo', axis=1)\n",
    "df_comb = df_comb.drop('NHSSpend_CharityName', axis=1)\n",
    "df_comb = df_comb.drop('NHSSpend_CompanyName', axis=1)\n",
    "df_comb = df_comb.drop('NHSSpend_audit_type', axis=1)\n",
    "df_comb = df_comb.drop('NHSSpend_CHnotes', axis=1)\n",
    "df_comb = df_comb.drop('NHSSpend_CCnotes', axis=1)"
   ]
  },
  {
   "cell_type": "markdown",
   "id": "324ad8ad-66f1-43c9-9155-d689ac44fcc1",
   "metadata": {},
   "source": [
    "### Section 0.7\n",
    "\n",
    "See what's left in our dataframes"
   ]
  },
  {
   "cell_type": "code",
   "execution_count": null,
   "id": "4a64f178-2c1c-40df-8995-b01a7a5b0826",
   "metadata": {},
   "outputs": [],
   "source": [
    "print(df_uniq.columns)\n",
    "print(df_uniq.head())"
   ]
  },
  {
   "cell_type": "code",
   "execution_count": null,
   "id": "77023526-ecc9-4670-8f66-fccc14694f12",
   "metadata": {},
   "outputs": [],
   "source": [
    "print(df_comb.columns)\n",
    "print(df_comb.head())"
   ]
  },
  {
   "cell_type": "markdown",
   "id": "2981d68e-9265-4775-b1a0-7cbf764d0745",
   "metadata": {},
   "source": [
    "### Section 0.8\n",
    "\n",
    "Sort, coerce, save uniq out before normalizing"
   ]
  },
  {
   "cell_type": "code",
   "execution_count": null,
   "id": "fe67b913-79ff-4507-8e9e-f3f5ceda3e61",
   "metadata": {},
   "outputs": [],
   "source": [
    "df_uniq = df_uniq.sort_values(by='PAYMENT_TOTAL_AMOUNT',\n",
    "                              ascending=False)\n",
    "df_uniq = df_uniq[df_uniq['NORMALIZED_SUPPLIER'].notnull()]\n",
    "df_uniq = df_uniq[df_uniq['SUPPLIER'].notnull()]\n",
    "df_uniq.to_csv(os.path.join(os.getcwd(),\n",
    "                            '..',\n",
    "                            'raw_data',\n",
    "                            'merged_groupby_raw.csv'),\n",
    "               index=False)"
   ]
  },
  {
   "cell_type": "code",
   "execution_count": null,
   "id": "d9ea287c-16eb-43b5-b515-2d8a3aaba02e",
   "metadata": {},
   "outputs": [],
   "source": [
    "df_comb.to_csv(os.path.join(os.getcwd(),\n",
    "                            '..',\n",
    "                            'raw_data',\n",
    "                            'merged_all_raw.csv'),\n",
    "               index=False\n",
    "              )"
   ]
  },
  {
   "cell_type": "markdown",
   "id": "69cddafb-3538-4a83-a103-e6683e96255e",
   "metadata": {},
   "source": [
    "# Section 1.0 \n",
    "\n",
    "Lets now process the other auxillery registers"
   ]
  },
  {
   "cell_type": "markdown",
   "id": "7eda406f-4f6d-470e-872a-48ebf5d933ee",
   "metadata": {},
   "source": [
    "### Section 1.1\n",
    "\n",
    "Lets load the uniq file back in so that we can split up the cleaning and matching process if we want to"
   ]
  },
  {
   "cell_type": "markdown",
   "id": "e4f89f1d-c4b6-4e15-ba83-194db61763ce",
   "metadata": {},
   "source": [
    "### Section 1.1\n",
    "\n",
    "CH first:"
   ]
  },
  {
   "cell_type": "code",
   "execution_count": null,
   "id": "fd4af239-d625-41b6-9ada-1a350700e65b",
   "metadata": {},
   "outputs": [],
   "source": [
    "df_ch = pd.read_csv(os.path.join(\n",
    "    '..', 'registers', 'BasicCompanyDataAsOneFile-2024-08-01.csv'),\n",
    "                    usecols=['CompanyName', ' CompanyNumber', 'RegAddress.PostTown', 'RegAddress.PostCode']\n",
    "                )\n",
    "df_ch['NORMALIZED_CompanyName'] = df_ch['CompanyName'].astype(str).progress_apply(normaliser)\n",
    "df_ch = df_ch[df_ch['NORMALIZED_CompanyName'].apply(isinstance, args=(str,))]\n",
    "\n",
    "df_ch = df_ch[df_ch['NORMALIZED_CompanyNama'].notnull()]\n",
    "df_ch = df_ch.drop_duplicates(subset=['NORMALIZED_CompanyName'], keep=False)\n",
    "df_ch = df_ch[[' CompanyNumber', 'NORMALIZED_CompanyName', 'CompanyName', 'RegAddress.PostTown', 'RegAddress.PostCode']]\n",
    "df_ch['CompanyName'] = df_ch['CompanyName'].replace('\"', \"[DQ]\", regex=True)\n",
    "df_ch.to_csv(os.path.join('..', 'registers', 'ch_w_normalised.csv'), index=False)"
   ]
  },
  {
   "cell_type": "markdown",
   "id": "a4ee32f9-f4b2-405c-8904-11eb11ca4ea5",
   "metadata": {},
   "source": [
    "### Section 1.2\n",
    "\n",
    "Now the spine:"
   ]
  },
  {
   "cell_type": "code",
   "execution_count": null,
   "id": "aee86c0e-29a5-4b9c-be10-f48c3e1314b0",
   "metadata": {},
   "outputs": [],
   "source": [
    "df_spine = pd.read_csv(os.path.join(\n",
    "    '..', 'registers', 'public_spine.spine.csv'),\n",
    "                       usecols=['uid', 'organisationname', 'fulladdress', 'city', 'postcode', 'registerdate', 'removeddate'],\n",
    "                       low_memory=False,\n",
    "                )\n",
    "df_spine['NORMALIZED_organisationname'] = df_spine['organisationname'].astype(str).progress_apply(normaliser)\n",
    "df_spine = df_spine[df_spine['NORMALIZED_organisationname'].apply(isinstance, args=(str,))]\n",
    "df_spine = df_spine[df_spine['NORMALIZED_organisationname'].notnull()]\n",
    "df_spine = df_spine.drop_duplicates(subset=['NORMALIZED_organisationname'], keep=False)\n",
    "df_spine = df_spine[['uid', 'NORMALIZED_organisationname', 'organisationname', 'fulladdress', 'city', 'postcode', 'registerdate', 'removeddate']]\n",
    "df_spine['organisationname'] = df_spine['organisationname'].replace('\"', \"[DQ]\", regex=True)\n",
    "df_spine['fulladdress'] = df_spine['fulladdress'].replace('\"', \"[DQ]\", regex=True)\n",
    "df_spine.to_csv(os.path.join('..', 'registers', 'spine_w_normalised.csv'), index=False)"
   ]
  },
  {
   "cell_type": "markdown",
   "id": "a051256f-40fd-4093-993b-06bf954cd38d",
   "metadata": {},
   "source": [
    "### Section 1.3\n",
    "\n",
    "Now the NHSSpend NHS register:"
   ]
  },
  {
   "cell_type": "code",
   "execution_count": null,
   "id": "068f167a-cf03-4ab6-9929-c8fc03892a05",
   "metadata": {},
   "outputs": [],
   "source": [
    "df_nhsdigital = pd.read_csv(os.path.join(\n",
    "    '..', 'registers', 'nhs_uniq.csv')\n",
    "                      )\n",
    "df_nhsdigital['NORMALIZED_NHSDigital_Supplier'] = df_nhsdigital['NHSDigital_Supplier'].astype(str).progress_apply(normaliser)\n",
    "df_nhsdigital = df_nhsdigital[df_nhsdigital['NORMALIZED_NHSDigital_Supplier'].apply(isinstance, args=(str,))]\n",
    "\n",
    "df_nhsdigital = df_nhsdigital[df_nhsdigital['NORMALIZED_NHSDigital_Supplier'].notnull()]\n",
    "df_nhsdigital = df_nhsdigital.drop_duplicates(subset=['NORMALIZED_NHSDigital_Supplier'], keep=False)\n",
    "df_nhsdigital = df_nhsdigital[['NHSDigital_Supplier', 'NORMALIZED_NHSDigital_Supplier']]\n",
    "df_nhsdigital['NHSDigital_Supplier'] = df_nhsdigital['NHSDigital_Supplier'].replace('\"', \"[DQ]\", regex=True)\n",
    "df_nhsdigital.to_csv(os.path.join('..', 'registers', 'nhsdigital_w_normalised.csv'), index=False)"
   ]
  },
  {
   "cell_type": "markdown",
   "id": "751aa86c-5d7b-486e-8b4c-629c6bde6241",
   "metadata": {},
   "source": [
    "# Section 2\n",
    "\n",
    "### Section 2.1\n",
    "\n",
    "Lets now load the files back in for the matching process.\n",
    "\n",
    "#### Section 2.1.1\n",
    "\n",
    "First, the uniq suppliers:"
   ]
  },
  {
   "cell_type": "code",
   "execution_count": null,
   "id": "8fa4efc8-735d-4556-8a34-70768b801a68",
   "metadata": {},
   "outputs": [],
   "source": [
    "df_uniq = pd.read_csv(os.path.join(os.getcwd(),\n",
    "                                   '..',\n",
    "                                   'raw_data',\n",
    "                                   'merged_groupby_raw.csv')\n",
    "                     )\n",
    "print(f'We are then left with {len(df_uniq)} rows of unique \"single\" suppliers')"
   ]
  },
  {
   "cell_type": "markdown",
   "id": "50bcf634-7355-490c-bacc-2b734f027fa4",
   "metadata": {},
   "source": [
    "#### Section 2.1.2 \n",
    "\n",
    "Then, the spine"
   ]
  },
  {
   "cell_type": "code",
   "execution_count": null,
   "id": "2f6e1709-2ca6-4525-88dd-b345644b3a0f",
   "metadata": {},
   "outputs": [],
   "source": [
    "df_spine = pd.read_csv(os.path.join('..', 'registers', 'spine_w_normalised.csv'), low_memory=False)"
   ]
  },
  {
   "cell_type": "markdown",
   "id": "d50a3666-6489-4002-b6df-18ed3e89dafe",
   "metadata": {},
   "source": [
    "#### Section 2.1.3\n",
    "\n",
    "Then, the CH:"
   ]
  },
  {
   "cell_type": "code",
   "execution_count": null,
   "id": "1b160b97-449b-457d-9296-325e63df60ed",
   "metadata": {},
   "outputs": [],
   "source": [
    "df_ch = pd.read_csv(os.path.join('..', 'registers', 'ch_w_normalised.csv'))"
   ]
  },
  {
   "cell_type": "markdown",
   "id": "2262f89b-2dc4-4558-974e-7edca0ab9f93",
   "metadata": {},
   "source": [
    "#### Section 2.1.4\n",
    "\n",
    "Then, the NHS Digital:"
   ]
  },
  {
   "cell_type": "code",
   "execution_count": null,
   "id": "73ebd7d7-cf93-4107-87b0-a8b8873d12e1",
   "metadata": {},
   "outputs": [],
   "source": [
    "df_nhsdigital = pd.read_csv(os.path.join('..', 'registers', 'nhsdigital_w_normalised.csv'))"
   ]
  },
  {
   "cell_type": "markdown",
   "id": "937b0603-51cc-487f-bca2-0581d352d134",
   "metadata": {},
   "source": [
    "# Section 3\n",
    "\n",
    "Do the matches here.\n",
    "    \n",
    "#### Section 3.1.\n",
    "\n",
    "Make the spine results"
   ]
  },
  {
   "cell_type": "code",
   "execution_count": null,
   "id": "fd1d1f23-f7df-42d8-b0ba-6bf18cc2aa88",
   "metadata": {},
   "outputs": [],
   "source": [
    "df_uniq[~df_uniq['NORMALIZED_SUPPLIER'].notnull()]"
   ]
  },
  {
   "cell_type": "code",
   "execution_count": null,
   "id": "7644451e-11a7-4044-934a-e8f347c8a6a6",
   "metadata": {},
   "outputs": [],
   "source": [
    "df_spine_results = make_matches(df_uniq['NORMALIZED_SUPPLIER'],\n",
    "                                df_spine['NORMALIZED_organisationname'],\n",
    "                                'spine')\n",
    "df_spine_results.to_csv(os.path.join('..', 'matches', 'matches_to_spine.csv'))"
   ]
  },
  {
   "cell_type": "code",
   "execution_count": null,
   "id": "60d65e4c-81f7-404a-af98-6f1967fe21ef",
   "metadata": {},
   "outputs": [],
   "source": [
    "df_uniq['NORMALIZED_SUPPLIER'][~df_uniq['NORMALIZED_SUPPLIER'].apply(isinstance, args=(str,))]"
   ]
  },
  {
   "cell_type": "markdown",
   "id": "bc7cd0b4-29a7-4568-9b1b-085f8d950849",
   "metadata": {},
   "source": [
    "#### Section 3.2.\n",
    "\n",
    "Make the CH results"
   ]
  },
  {
   "cell_type": "code",
   "execution_count": null,
   "id": "86d6ff19-4ea6-4893-835d-bb3fa9f07fab",
   "metadata": {},
   "outputs": [],
   "source": [
    "df_ch_results = make_matches(df_uniq['NORMALIZED_SUPPLIER'],\n",
    "                             df_ch['NORMALIZED_CompanyName'],\n",
    "                             'ch')\n",
    "df_ch_results.to_csv(os.path.join('..', 'matches', 'matches_to_ch.csv'))"
   ]
  },
  {
   "cell_type": "markdown",
   "id": "9fd2536d-f295-4562-999c-893f7b8e0e4d",
   "metadata": {},
   "source": [
    "#### Section 3.3.\n",
    "\n",
    "Make the NHS Digital results"
   ]
  },
  {
   "cell_type": "code",
   "execution_count": null,
   "id": "1d878290-bc42-41ce-b223-1788d2c74623",
   "metadata": {},
   "outputs": [],
   "source": [
    "df_nhsdigital_results = make_matches(df_uniq['NORMALIZED_SUPPLIER'], df_nhsdigital['NORMALIZED_NHSDigital_Supplier'], 'nhsdigital')\n",
    "df_nhsdigital_results.to_csv(os.path.join('..', 'matches', 'matches_to_nhsdigital.csv'))"
   ]
  },
  {
   "cell_type": "markdown",
   "id": "a444a7ff-97f8-4f15-9ec4-8257da994d8c",
   "metadata": {},
   "source": [
    "# Section 4\n",
    "\n",
    "Now, merge the matches back onto the unique.\n",
    "\n",
    "### Section 4.1.\n",
    "\n",
    "First, load the matches in"
   ]
  },
  {
   "cell_type": "code",
   "execution_count": null,
   "id": "45303f72-248c-45b8-bb1c-bc4080c6bcf9",
   "metadata": {},
   "outputs": [],
   "source": [
    "df_spine_results = pd.read_csv(os.path.join('..', 'matches', 'matches_to_spine.csv'), index_col=0)\n",
    "df_ch_results = pd.read_csv(os.path.join('..', 'matches', 'matches_to_ch.csv'), index_col=0)\n",
    "df_nhsdigital_results = pd.read_csv(os.path.join('..', 'matches', 'matches_to_nhsdigital.csv'), index_col=0)\n",
    "df_uniq = pd.read_csv(os.path.join(os.getcwd(),\n",
    "                                   '..',\n",
    "                                   'raw_data',\n",
    "                                   'merged_groupby_raw.csv')\n",
    "                     )"
   ]
  },
  {
   "cell_type": "code",
   "execution_count": null,
   "id": "14f822c3-bdfb-4b24-8a60-547b2e82e535",
   "metadata": {},
   "outputs": [],
   "source": [
    "df_ch_results"
   ]
  },
  {
   "cell_type": "markdown",
   "id": "60ff837e-8a30-4706-89bd-6e1bee9e28b7",
   "metadata": {},
   "source": [
    "### Section 4.2.\n",
    "\n",
    "Add new empty fields"
   ]
  },
  {
   "cell_type": "code",
   "execution_count": null,
   "id": "17fd34bc-dfbb-40fa-968e-0e6df4ecd46b",
   "metadata": {},
   "outputs": [],
   "source": [
    "df_uniq['verified_normalized_spine_name'] = np.nan\n",
    "df_uniq['verified_spine_uid'] = np.nan\n",
    "df_uniq['verified_normalized_ch_name'] = np.nan\n",
    "df_uniq['verified_ch_uid'] = np.nan\n",
    "df_uniq['verified_nhsdigital_name'] = np.nan"
   ]
  },
  {
   "cell_type": "code",
   "execution_count": null,
   "id": "877df7f2-e833-4582-94a3-601d573eea51",
   "metadata": {},
   "outputs": [],
   "source": [
    "df_uniq = df_uniq.join(df_spine_results, how='left')\n",
    "df_uniq.to_csv(os.path.join(os.getcwd(),\n",
    "                            '..',\n",
    "                            'raw_data',\n",
    "                            'merged_groupby_with_approximate_spine.csv'),\n",
    "               index=False)"
   ]
  },
  {
   "cell_type": "code",
   "execution_count": null,
   "id": "01c59205-cacf-447c-938e-62e8b0da6803",
   "metadata": {},
   "outputs": [],
   "source": [
    "df_uniq = df_uniq.join(df_ch_results, how='left')\n",
    "df_uniq.to_csv(os.path.join(os.getcwd(),\n",
    "                            '..',\n",
    "                            'raw_data',\n",
    "                            'merged_groupby_with_approximate_spine_and_ch.csv'),\n",
    "               index=False)"
   ]
  },
  {
   "cell_type": "code",
   "execution_count": null,
   "id": "ca8f1eee-294e-49e1-b7de-2626df2cc33b",
   "metadata": {},
   "outputs": [],
   "source": [
    "df_uniq = df_uniq.join(df_nhsdigital_results, how='left')\n",
    "df_uniq.to_csv(os.path.join(os.getcwd(),\n",
    "                            '..',\n",
    "                            'raw_data',\n",
    "                            'merged_groupby_with_approximate_spine_and_ch_and_nhsdigital.csv'),\n",
    "               index=False)"
   ]
  },
  {
   "cell_type": "markdown",
   "id": "5c8c1cc5-3b32-4b4c-8d0d-d351419d134f",
   "metadata": {},
   "source": [
    "# Section 4\n",
    "\n",
    "Do some EDA here which checks that the matches have been linked back in appropriately"
   ]
  },
  {
   "cell_type": "code",
   "execution_count": null,
   "id": "093d10bb-676c-4335-a09c-1d51a3873162",
   "metadata": {},
   "outputs": [],
   "source": [
    "df_uniq[['SUPPLIER', 'NORMALIZED_SUPPLIER',\n",
    "         'best_spine_match_1', 'best_spine_match_1_score',\n",
    "         'best_ch_match_1', 'best_ch_match_1_score',\n",
    "         'best_nhsdigital_match_1', 'best_nhsdigital_match_1_score']]"
   ]
  },
  {
   "cell_type": "code",
   "execution_count": null,
   "id": "5ef6cb38-92ac-4a3a-aa51-238ea7e957ec",
   "metadata": {},
   "outputs": [],
   "source": []
  }
 ],
 "metadata": {
  "kernelspec": {
   "display_name": "Python 3 (ipykernel)",
   "language": "python",
   "name": "python3"
  },
  "language_info": {
   "codemirror_mode": {
    "name": "ipython",
    "version": 3
   },
   "file_extension": ".py",
   "mimetype": "text/x-python",
   "name": "python",
   "nbconvert_exporter": "python",
   "pygments_lexer": "ipython3",
   "version": "3.11.7"
  }
 },
 "nbformat": 4,
 "nbformat_minor": 5
}
